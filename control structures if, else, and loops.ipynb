{
 "cells": [
  {
   "cell_type": "code",
   "execution_count": 3,
   "id": "a0c5154b",
   "metadata": {},
   "outputs": [
    {
     "name": "stdout",
     "output_type": "stream",
     "text": [
      "6 is less than 45\n"
     ]
    }
   ],
   "source": [
    "x = 6\n",
    "if x > 45:\n",
    "    print(x, 'is greater than 45')\n",
    "else:\n",
    "    print(x, 'is less than 45')"
   ]
  },
  {
   "cell_type": "code",
   "execution_count": 19,
   "id": "7e2ec904",
   "metadata": {},
   "outputs": [
    {
     "name": "stdout",
     "output_type": "stream",
     "text": [
      "yes\n",
      "yes\n"
     ]
    }
   ],
   "source": [
    "x = 201\n",
    "if x<200:\n",
    "    print('No')\n",
    "else:\n",
    "    if x>500:\n",
    "        print('NO')\n",
    "    else:\n",
    "        print('yes')\n",
    "# we can shorten this code also by relational operators\n",
    "if x >200 & x < 500:\n",
    "    print('yes')\n",
    "else:\n",
    "    print('no')"
   ]
  },
  {
   "cell_type": "code",
   "execution_count": 13,
   "id": "3956fe0c",
   "metadata": {},
   "outputs": [
    {
     "name": "stdout",
     "output_type": "stream",
     "text": [
      "age of the visitor20\n",
      "Visiter can enter\n"
     ]
    }
   ],
   "source": [
    "x = int(input('age of the visitor'))             # this code is related to if-elif-else\n",
    "\n",
    "if x > 60:\n",
    "    print('No entry')\n",
    "elif x < 18:\n",
    "    print('No entry')\n",
    "else:\n",
    "    print('Visiter can enter')\n",
    "    \n"
   ]
  },
  {
   "cell_type": "code",
   "execution_count": 16,
   "id": "714ea1e6",
   "metadata": {},
   "outputs": [
    {
     "name": "stdout",
     "output_type": "stream",
     "text": [
      "age of the visitor99\n",
      "No entry\n"
     ]
    }
   ],
   "source": [
    "# another way to shorten the code by using relation opertators like(or, nor,xor)\n",
    "x = int(input('age of the visitor'))\n",
    "if x > 60 or x <18:\n",
    "    print('No entry')\n",
    "else:\n",
    "    print('You fit the criteria for entry')"
   ]
  },
  {
   "cell_type": "code",
   "execution_count": 22,
   "id": "3a9a916f",
   "metadata": {},
   "outputs": [
    {
     "name": "stdout",
     "output_type": "stream",
     "text": [
      "enter the year to see if India has won the worlcup = 2006\n",
      "The worldcups was not played in the given year\n"
     ]
    }
   ],
   "source": [
    "#nested if-else                 # code to see which teams were the finalist in the world cups\n",
    "world_cups = {2019 : ['England', 'New Zealand'], 2015:[\"Australia\", \"New Zealand\"], 2011 : [\"India\", \"Sri Lanka\"], 2007: [\"Australia\", \"Sri Lanka\"], 2003: [\"Australia\", \"India\"]}\n",
    "year = int(input('enter the year to see if India has won the worlcup = '))\n",
    "if year in world_cups.keys():\n",
    "    if 'India'in world_cups[year]:\n",
    "        print('Yes!India were among the finalist')\n",
    "    else:\n",
    "        print('Unfortuantely!India did not make to the finals')\n",
    "else:\n",
    "    print('The worldcups was not played in the given year')\n"
   ]
  },
  {
   "cell_type": "code",
   "execution_count": 31,
   "id": "9185c7ac",
   "metadata": {},
   "outputs": [
    {
     "name": "stdout",
     "output_type": "stream",
     "text": [
      "eneter the wordorange\n",
      "yes!the word star with vowel\n"
     ]
    }
   ],
   "source": [
    "input_str = input('eneter the word')                      # to see whether the first letter of a input string is vowel or not\n",
    "vowel = 'a,e,i,o,u'\n",
    "if input_str[2] in vowel:\n",
    "    print('yes!the word star with vowel')\n",
    "else:\n",
    "    print('No!the word does not start with vowel')\n",
    "\n",
    "    "
   ]
  },
  {
   "cell_type": "code",
   "execution_count": 33,
   "id": "a7850819",
   "metadata": {},
   "outputs": [
    {
     "name": "stdout",
     "output_type": "stream",
     "text": [
      "enter your valid pin to enter = 5200\n",
      "Schade!your pin is incorrect...please try again with your code5698\n",
      "Schade!your pin is incorrect...please try again with your code3903\n",
      "Pin validation successful\n"
     ]
    }
   ],
   "source": [
    "# while loop\n",
    "Mobile_pin = input('enter your valid pin to enter = ')           # How to use while loops\n",
    "while Mobile_pin != '3903':\n",
    "    Mobile_pin= input('Schade!your pin is incorrect...please try again with your code')\n",
    "print('Pin validation successful')"
   ]
  },
  {
   "cell_type": "code",
   "execution_count": 36,
   "id": "6d627f90",
   "metadata": {},
   "outputs": [
    {
     "name": "stdout",
     "output_type": "stream",
     "text": [
      "enter your four digit pin= 2560\n",
      "Pin is incorrect...enter the pin again39039\n",
      "Pin is incorrect...enter the pin again3903\n",
      "pin validation is successful\n"
     ]
    }
   ],
   "source": [
    "import sys\n",
    "enter_pin = input('enter your four digit pin= ')              \n",
    "attempt = 1\n",
    "while enter_pin != '3903':                                    \n",
    "    if attempt >= 3:\n",
    "        sys.exit('too many invalid attempts')                        #this part will exist the sytem code if more than or equals to 3\n",
    "    enter_pin = input('Pin is incorrect...enter the pin again')\n",
    "    attempt += 1\n",
    "else:\n",
    "    print('pin validation is successful')\n",
    "    \n",
    "    \n",
    "      \n",
    "    \n",
    "    \n"
   ]
  },
  {
   "cell_type": "code",
   "execution_count": 37,
   "id": "590e6ca1",
   "metadata": {},
   "outputs": [
    {
     "name": "stdout",
     "output_type": "stream",
     "text": [
      "1\n",
      "2\n",
      "5\n",
      "6\n",
      "7\n"
     ]
    }
   ],
   "source": [
    "#iteration using for loops\n",
    "#for list\n",
    "a =[1,2,5,6,7]\n",
    "for var in a:\n",
    "    print(var)"
   ]
  },
  {
   "cell_type": "code",
   "execution_count": 38,
   "id": "b4e7087c",
   "metadata": {},
   "outputs": [
    {
     "name": "stdout",
     "output_type": "stream",
     "text": [
      "y\n",
      "o\n",
      "u\n",
      " \n",
      "w\n",
      "i\n",
      "l\n",
      "l\n",
      " \n",
      "s\n",
      "u\n",
      "c\n",
      "c\n",
      "e\n",
      "e\n",
      "d\n"
     ]
    }
   ],
   "source": [
    "string = 'you will succeed'\n",
    "for char in string:\n",
    "    print(char)"
   ]
  },
  {
   "cell_type": "code",
   "execution_count": 40,
   "id": "c9977984",
   "metadata": {},
   "outputs": [
    {
     "name": "stdout",
     "output_type": "stream",
     "text": [
      "y|o|u| |w|i|l|l| |s|u|c|c|e|e|d|"
     ]
    }
   ],
   "source": [
    "string = 'you will succeed'\n",
    "for char in string:\n",
    "    print(char, end='|')"
   ]
  },
  {
   "cell_type": "code",
   "execution_count": 50,
   "id": "6ba06ad1",
   "metadata": {
    "scrolled": true
   },
   "outputs": [
    {
     "name": "stdout",
     "output_type": "stream",
     "text": [
      "Sam 21\n",
      "Cody 12\n",
      "Addy 3\n",
      "Zach 45\n",
      "Amy 6\n"
     ]
    }
   ],
   "source": [
    "# for Dictionaries\n",
    "list_students = {'Sam':21,'Cody':12,'Addy':3,'Zach':45,'Amy':6}\n",
    "for key, val in list_students.items():           #code to access key and values in a dictionary\n",
    "    print(key,val)"
   ]
  },
  {
   "cell_type": "code",
   "execution_count": 57,
   "id": "b6c7e648",
   "metadata": {},
   "outputs": [
    {
     "name": "stdout",
     "output_type": "stream",
     "text": [
      "21\n",
      "12\n",
      "3\n",
      "45\n",
      "6\n"
     ]
    }
   ],
   "source": [
    "list_students = {'Sam':21,'Cody':12,'Addy':3,'Zach':45,'Amy':6}\n",
    "for val in list_students.values():           #code to access key and values in a dictionary\n",
    "    print(val)"
   ]
  },
  {
   "cell_type": "code",
   "execution_count": 58,
   "id": "14f81e31",
   "metadata": {},
   "outputs": [
    {
     "name": "stdout",
     "output_type": "stream",
     "text": [
      "Sam\n",
      "Cody\n",
      "Addy\n",
      "Zach\n",
      "Amy\n"
     ]
    }
   ],
   "source": [
    "list_students = {'Sam':21,'Cody':12,'Addy':3,'Zach':45,'Amy':6}\n",
    "for key in list_students.keys():           #code to access key and values in a dictionary\n",
    "    print(key)"
   ]
  },
  {
   "cell_type": "code",
   "execution_count": 61,
   "id": "003b5d28",
   "metadata": {},
   "outputs": [
    {
     "name": "stdout",
     "output_type": "stream",
     "text": [
      "Sam 21\n",
      "Cody 12\n",
      "Addy 3\n",
      "Zach 45\n",
      "Amy 6\n"
     ]
    }
   ],
   "source": [
    "list_students = {'Sam':21,'Cody':12,'Addy':3,'Zach':45,'Amy':6}\n",
    "for key, val in list_students.items():           #code to access key and values in a dictionary\n",
    "    print(key, val)"
   ]
  },
  {
   "cell_type": "code",
   "execution_count": 76,
   "id": "c53f6d92",
   "metadata": {},
   "outputs": [
    {
     "name": "stdout",
     "output_type": "stream",
     "text": [
      "300 ! 290 ! 280 ! 270 ! 260 ! 250 ! 240 ! 230 ! 220 ! 210 ! 200 ! 190 ! 180 ! 170 ! 160 ! 150 ! 140 ! 130 ! 120 ! 110 ! 100 ! 90 ! 80 ! 70 ! 60 ! 50 ! 40 ! 30 ! 20 ! 10 ! "
     ]
    }
   ],
   "source": [
    "#how to use for loop for a rage of values\n",
    "for i in range(300,0, -10):\n",
    "    print(i, end = \" ! \")"
   ]
  },
  {
   "cell_type": "code",
   "execution_count": 77,
   "id": "e7083fc5",
   "metadata": {},
   "outputs": [
    {
     "name": "stdout",
     "output_type": "stream",
     "text": [
      "0 ! 10 ! 20 ! 30 ! 40 ! 50 ! 60 ! 70 ! 80 ! 90 ! 100 ! 110 ! 120 ! 130 ! 140 ! 150 ! 160 ! 170 ! 180 ! 190 ! 200 ! 210 ! 220 ! 230 ! 240 ! 250 ! 260 ! 270 ! 280 ! 290 ! "
     ]
    }
   ],
   "source": [
    "for i in range(0, 300, 10):\n",
    "    print(i, end = \" ! \")"
   ]
  },
  {
   "cell_type": "code",
   "execution_count": 82,
   "id": "29d336b0",
   "metadata": {},
   "outputs": [
    {
     "data": {
      "text/plain": [
       "[-2, -6, -15, -4, -8]"
      ]
     },
     "execution_count": 82,
     "metadata": {},
     "output_type": "execute_result"
    }
   ],
   "source": [
    "L1 = [10, 20, 30, 24, 18]\n",
    "L2 = [8, 14, 15, 20, 10]\n",
    "L3=[]\n",
    "for  i in range(len(L2)):                               #confusion\n",
    "    L3.append(L2[i]-L1[i])\n",
    "L3"
   ]
  },
  {
   "cell_type": "code",
   "execution_count": 15,
   "id": "9af01677",
   "metadata": {},
   "outputs": [
    {
     "name": "stdout",
     "output_type": "stream",
     "text": [
      "['Varma', 'Raj', 'Gupta', 'Sandeep']\n"
     ]
    }
   ],
   "source": [
    "input_list = ['VARMA','raj','Gupta','SaNdeep']\n",
    "a = []\n",
    "for i in input_list:\n",
    "    a.append(i.capitalize())\n",
    "print(a)\n"
   ]
  },
  {
   "cell_type": "code",
   "execution_count": 98,
   "id": "7aa20b7d",
   "metadata": {},
   "outputs": [
    {
     "name": "stdout",
     "output_type": "stream",
     "text": [
      "2 is prime\n",
      "3 is prime\n",
      "4 is not prime 2\n",
      "5 is prime\n",
      "6 is not prime 2\n",
      "7 is prime\n",
      "8 is not prime 2\n",
      "9 is not prime 3\n",
      "10 is not prime 2\n",
      "11 is prime\n",
      "12 is not prime 2\n",
      "13 is prime\n",
      "14 is not prime 2\n",
      "15 is not prime 3\n",
      "16 is not prime 2\n",
      "17 is prime\n",
      "18 is not prime 2\n",
      "19 is prime\n"
     ]
    }
   ],
   "source": [
    "for n in range(2,20):\n",
    "    flag = True\n",
    "    for i in range(2,n):\n",
    "        if n%i == 0:\n",
    "            print(n,'is not prime', i)\n",
    "            flag = False\n",
    "            break\n",
    "    if flag == True:\n",
    "        print(n, 'is prime')"
   ]
  },
  {
   "cell_type": "code",
   "execution_count": 99,
   "id": "28cc33f8",
   "metadata": {},
   "outputs": [
    {
     "data": {
      "text/plain": [
       "[-100,\n",
       " -98,\n",
       " -96,\n",
       " -94,\n",
       " -92,\n",
       " -90,\n",
       " -88,\n",
       " -86,\n",
       " -84,\n",
       " -82,\n",
       " -80,\n",
       " -78,\n",
       " -76,\n",
       " -74,\n",
       " -72,\n",
       " -70,\n",
       " -68,\n",
       " -66,\n",
       " -64,\n",
       " -62,\n",
       " -60,\n",
       " -58,\n",
       " -56,\n",
       " -54,\n",
       " -52,\n",
       " -50,\n",
       " -48,\n",
       " -46,\n",
       " -44,\n",
       " -42,\n",
       " -40,\n",
       " -38,\n",
       " -36,\n",
       " -34,\n",
       " -32,\n",
       " -30,\n",
       " -28,\n",
       " -26,\n",
       " -24,\n",
       " -22,\n",
       " -20,\n",
       " -18,\n",
       " -16,\n",
       " -14,\n",
       " -12,\n",
       " -10,\n",
       " -8,\n",
       " -6,\n",
       " -4,\n",
       " -2]"
      ]
     },
     "execution_count": 99,
     "metadata": {},
     "output_type": "execute_result"
    }
   ],
   "source": [
    "a = list(range(-100,-1,2))\n",
    "a"
   ]
  },
  {
   "cell_type": "code",
   "execution_count": 107,
   "id": "4cb2ad96",
   "metadata": {},
   "outputs": [
    {
     "data": {
      "text/plain": [
       "[-100,\n",
       " -98,\n",
       " -96,\n",
       " -94,\n",
       " -92,\n",
       " -90,\n",
       " -88,\n",
       " -86,\n",
       " -84,\n",
       " -82,\n",
       " -80,\n",
       " -78,\n",
       " -76,\n",
       " -74,\n",
       " -72,\n",
       " -70,\n",
       " -68,\n",
       " -66,\n",
       " -64,\n",
       " -62,\n",
       " -60,\n",
       " -58,\n",
       " -56,\n",
       " -54,\n",
       " -52,\n",
       " -50,\n",
       " -48,\n",
       " -46,\n",
       " -44,\n",
       " -42,\n",
       " -40,\n",
       " -38,\n",
       " -36,\n",
       " -34,\n",
       " -32,\n",
       " -30,\n",
       " -28,\n",
       " -26,\n",
       " -24,\n",
       " -22,\n",
       " -20,\n",
       " -18,\n",
       " -16,\n",
       " -14,\n",
       " -12,\n",
       " -10,\n",
       " -8,\n",
       " -6,\n",
       " -4,\n",
       " -2]"
      ]
     },
     "execution_count": 107,
     "metadata": {},
     "output_type": "execute_result"
    }
   ],
   "source": [
    "a = sorted(set(range(-2,-101,-2)))\n",
    "a"
   ]
  },
  {
   "cell_type": "code",
   "execution_count": 10,
   "id": "63373c7d",
   "metadata": {},
   "outputs": [
    {
     "data": {
      "text/plain": [
       "[7, 6, 4, 6]"
      ]
     },
     "execution_count": 10,
     "metadata": {},
     "output_type": "execute_result"
    }
   ],
   "source": [
    "#these are comprehensions(how to make a new list or dictionary )\n",
    "l = ['kolkata','mumbai','kota','kerala']\n",
    "l1=[]\n",
    "for word in l:\n",
    "      l1.append(len(word))\n",
    "l1\n",
    "#or another approch\n",
    "l1 = [len(word) for word in l]\n",
    "l1"
   ]
  },
  {
   "cell_type": "code",
   "execution_count": 15,
   "id": "6df6ade5",
   "metadata": {},
   "outputs": [
    {
     "data": {
      "text/plain": [
       "[3, 3, -2, -2, -7]"
      ]
     },
     "execution_count": 15,
     "metadata": {},
     "output_type": "execute_result"
    }
   ],
   "source": [
    "#normal approch\n",
    "l1 = [5,3,4,6,8]\n",
    "l2 = [8,6,2,4,1]\n",
    "l3 = []\n",
    "for i in range(len(l1)):\n",
    "    l3.append(l2[i]-l1[i])\n",
    "l3\n"
   ]
  },
  {
   "cell_type": "markdown",
   "id": "14c699cf",
   "metadata": {},
   "source": []
  },
  {
   "cell_type": "code",
   "execution_count": 14,
   "id": "f88c6173",
   "metadata": {},
   "outputs": [
    {
     "data": {
      "text/plain": [
       "[3, 3, -2, -2, -7]"
      ]
     },
     "execution_count": 14,
     "metadata": {},
     "output_type": "execute_result"
    }
   ],
   "source": [
    "#same approch with list comprehensions\n",
    "l3 = [l2[i]-l1[i] for i in range(len(l2))]\n",
    "l3"
   ]
  },
  {
   "cell_type": "code",
   "execution_count": 16,
   "id": "3e551a86",
   "metadata": {},
   "outputs": [
    {
     "name": "stdout",
     "output_type": "stream",
     "text": [
      "kolkata  -  7\n",
      "mumbai  -  6\n",
      "kota  -  4\n",
      "kerala  -  6\n"
     ]
    }
   ],
   "source": [
    "# how to zip two values together\n",
    "l = ['kolkata','mumbai','kota','kerala']\n",
    "l1=[]\n",
    "for word in l:\n",
    "      l1.append(len(word))\n",
    "l1\n",
    "for i,j in zip(l,l1):\n",
    "    print(i, \" - \", j)"
   ]
  },
  {
   "cell_type": "code",
   "execution_count": 17,
   "id": "a8e1380d",
   "metadata": {},
   "outputs": [
    {
     "data": {
      "text/plain": [
       "{'kolkata': 7, 'mumbai': 6, 'kota': 4, 'kerala': 6}"
      ]
     },
     "execution_count": 17,
     "metadata": {},
     "output_type": "execute_result"
    }
   ],
   "source": [
    "d = {word:len(word) for word in l}        # to create a dictionary with two diffrent listed values\n",
    "d"
   ]
  },
  {
   "cell_type": "code",
   "execution_count": 10,
   "id": "b9696d9e",
   "metadata": {},
   "outputs": [
    {
     "data": {
      "text/plain": [
       "[[1, 2, 3, 4, 5, 1, 2, 3, 4, 5]]"
      ]
     },
     "execution_count": 10,
     "metadata": {},
     "output_type": "execute_result"
    }
   ],
   "source": [
    "g = [1,2,3,4,5]\n",
    "g2 = [2 * g] \n",
    "g2"
   ]
  },
  {
   "cell_type": "code",
   "execution_count": 11,
   "id": "6e6df0b0",
   "metadata": {},
   "outputs": [
    {
     "data": {
      "text/plain": [
       "[2, 10, 14, 8]"
      ]
     },
     "execution_count": 11,
     "metadata": {},
     "output_type": "execute_result"
    }
   ],
   "source": [
    "g = [1,5,7,4]                     # output should multiple of 2 from the input\n",
    "g1 = []\n",
    "for f in g:\n",
    "    g1.append(f*2)\n",
    "g1"
   ]
  },
  {
   "cell_type": "code",
   "execution_count": 13,
   "id": "947a77be",
   "metadata": {},
   "outputs": [
    {
     "data": {
      "text/plain": [
       "['D', 'M', 'P']"
      ]
     },
     "execution_count": 13,
     "metadata": {},
     "output_type": "execute_result"
    }
   ],
   "source": [
    "l = ['Delhi','Mumbai','Pune']         # Output will be always the first letter of the variables from the input\n",
    "l1 = []\n",
    "for m in l:\n",
    "    l1.append(m[0])\n",
    "l1"
   ]
  },
  {
   "cell_type": "code",
   "execution_count": 51,
   "id": "9bf17209",
   "metadata": {},
   "outputs": [
    {
     "name": "stdout",
     "output_type": "stream",
     "text": [
      "enter a number5\n"
     ]
    },
    {
     "ename": "TypeError",
     "evalue": "can only concatenate str (not \"int\") to str",
     "output_type": "error",
     "traceback": [
      "\u001b[1;31m---------------------------------------------------------------------------\u001b[0m",
      "\u001b[1;31mTypeError\u001b[0m                                 Traceback (most recent call last)",
      "\u001b[1;32mC:\\Users\\SEHENW~1\\AppData\\Local\\Temp/ipykernel_20532/2556561152.py\u001b[0m in \u001b[0;36m<module>\u001b[1;34m\u001b[0m\n\u001b[0;32m      1\u001b[0m \u001b[0mg\u001b[0m \u001b[1;33m=\u001b[0m \u001b[0minput\u001b[0m\u001b[1;33m(\u001b[0m\u001b[1;34m'enter a number'\u001b[0m\u001b[1;33m)\u001b[0m\u001b[1;33m\u001b[0m\u001b[1;33m\u001b[0m\u001b[0m\n\u001b[0;32m      2\u001b[0m \u001b[1;32mfor\u001b[0m \u001b[0mchar\u001b[0m \u001b[1;32min\u001b[0m \u001b[0mg\u001b[0m\u001b[1;33m:\u001b[0m\u001b[1;33m\u001b[0m\u001b[1;33m\u001b[0m\u001b[0m\n\u001b[1;32m----> 3\u001b[1;33m     \u001b[0mprint\u001b[0m\u001b[1;33m(\u001b[0m\u001b[0msorted\u001b[0m\u001b[1;33m(\u001b[0m\u001b[0mset\u001b[0m\u001b[1;33m(\u001b[0m\u001b[0mrange\u001b[0m\u001b[1;33m(\u001b[0m\u001b[1;36m0\u001b[0m\u001b[1;33m,\u001b[0m\u001b[0mg\u001b[0m\u001b[1;33m+\u001b[0m\u001b[1;36m1\u001b[0m\u001b[1;33m)\u001b[0m\u001b[1;33m)\u001b[0m\u001b[1;33m)\u001b[0m\u001b[1;33m)\u001b[0m\u001b[1;33m\u001b[0m\u001b[1;33m\u001b[0m\u001b[0m\n\u001b[0m\u001b[0;32m      4\u001b[0m \u001b[1;33m\u001b[0m\u001b[0m\n",
      "\u001b[1;31mTypeError\u001b[0m: can only concatenate str (not \"int\") to str"
     ]
    }
   ],
   "source": [
    "g = input('enter a number')\n",
    "\n",
    "    "
   ]
  },
  {
   "cell_type": "code",
   "execution_count": null,
   "id": "06383dc2",
   "metadata": {},
   "outputs": [],
   "source": [
    "import sys\n",
    "enter_pin = input('enter your four digit pin= ')              \n",
    "attempt = 1\n",
    "while enter_pin != '3903':                                    \n",
    "    if attempt >= 3:\n",
    "        sys.exit('too many invalid attempts')                        #this part will exist the sytem code if more than or equals to 3\n",
    "    enter_pin = input('Pin is incorrect...enter the pin again')\n",
    "    attempt += 1\n",
    "else:\n",
    "    print('pin validation is successful')"
   ]
  },
  {
   "cell_type": "code",
   "execution_count": 56,
   "id": "f28466d3",
   "metadata": {},
   "outputs": [
    {
     "name": "stdout",
     "output_type": "stream",
     "text": [
      "enter the no5\n"
     ]
    },
    {
     "ename": "TypeError",
     "evalue": "'int' object is not subscriptable",
     "output_type": "error",
     "traceback": [
      "\u001b[1;31m---------------------------------------------------------------------------\u001b[0m",
      "\u001b[1;31mTypeError\u001b[0m                                 Traceback (most recent call last)",
      "\u001b[1;32mC:\\Users\\SEHENW~1\\AppData\\Local\\Temp/ipykernel_20532/1586920443.py\u001b[0m in \u001b[0;36m<module>\u001b[1;34m\u001b[0m\n\u001b[0;32m      1\u001b[0m \u001b[0mg\u001b[0m \u001b[1;33m=\u001b[0m \u001b[0mint\u001b[0m\u001b[1;33m(\u001b[0m\u001b[0minput\u001b[0m\u001b[1;33m(\u001b[0m\u001b[1;34m'enter the no'\u001b[0m\u001b[1;33m)\u001b[0m\u001b[1;33m)\u001b[0m\u001b[1;33m\u001b[0m\u001b[1;33m\u001b[0m\u001b[0m\n\u001b[1;32m----> 2\u001b[1;33m \u001b[0mg\u001b[0m\u001b[1;33m[\u001b[0m\u001b[1;36m1\u001b[0m\u001b[1;33m,\u001b[0m\u001b[1;34m'g'\u001b[0m\u001b[1;33m]\u001b[0m\u001b[1;33m\u001b[0m\u001b[1;33m\u001b[0m\u001b[0m\n\u001b[0m",
      "\u001b[1;31mTypeError\u001b[0m: 'int' object is not subscriptable"
     ]
    }
   ],
   "source": [
    "g = int(input('enter the no'))\n"
   ]
  },
  {
   "cell_type": "code",
   "execution_count": null,
   "id": "ace163da",
   "metadata": {},
   "outputs": [],
   "source": []
  }
 ],
 "metadata": {
  "kernelspec": {
   "display_name": "Python 3 (ipykernel)",
   "language": "python",
   "name": "python3"
  },
  "language_info": {
   "codemirror_mode": {
    "name": "ipython",
    "version": 3
   },
   "file_extension": ".py",
   "mimetype": "text/x-python",
   "name": "python",
   "nbconvert_exporter": "python",
   "pygments_lexer": "ipython3",
   "version": "3.9.7"
  }
 },
 "nbformat": 4,
 "nbformat_minor": 5
}
